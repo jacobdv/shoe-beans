{
 "cells": [
  {
   "cell_type": "code",
   "execution_count": 1,
   "id": "suspected-wesley",
   "metadata": {},
   "outputs": [
    {
     "name": "stderr",
     "output_type": "stream",
     "text": [
      "C:\\Users\\mrjac\\Anaconda3\\envs\\PythonData\\lib\\site-packages\\IPython\\core\\interactiveshell.py:3063: DtypeWarning: Columns (6) have mixed types.Specify dtype option on import or set low_memory=False.\n",
      "  interactivity=interactivity, compiler=compiler, result=result)\n"
     ]
    }
   ],
   "source": [
    "# Imports and Dependencies\n",
    "import pandas as pd\n",
    "import math as m\n",
    "pd.set_option('display.max_rows', None)\n",
    "nfa = pd.read_csv(\"NFA_Data.csv\")\n",
    "# Reads in csv for table two of the UN data, using the fifth row as header.\n",
    "un = pd.read_csv(\"UN_Data_Table_2.csv\", header=4).drop([0,67,121,159,193])"
   ]
  },
  {
   "cell_type": "markdown",
   "id": "emerging-henry",
   "metadata": {},
   "source": [
    "# NFA"
   ]
  },
  {
   "cell_type": "code",
   "execution_count": 2,
   "id": "arabic-capital",
   "metadata": {},
   "outputs": [],
   "source": [
    "# Creating country, year, and carbon emissions dataframe for the selected years.\n",
    "nfa = nfa[['country','year','carbon','record']]\n",
    "nfa_data1990 = nfa[nfa['year'] == 1990]\n",
    "nfa_data2000 = nfa[nfa['year'] == 2000]\n",
    "nfa_data2010 = nfa[nfa['year'] == 2010]\n",
    "\n",
    "# Creating combined dataset.\n",
    "nfa = ((nfa_data1990.append(nfa_data2000)).append(nfa_data2010))\n",
    "\n",
    "# Dropping from country names.\n",
    "nfa = nfa[nfa['country'] != 'World']\n",
    "\n",
    "# Reseting index values.\n",
    "nfa = nfa.set_index(\"country\").reset_index()"
   ]
  },
  {
   "cell_type": "code",
   "execution_count": 3,
   "id": "sharp-folder",
   "metadata": {},
   "outputs": [],
   "source": [
    "nfa = nfa[(nfa['record'] == 'EFProdPerCap') | (nfa['record'] == 'EFConsPerCap')]\n",
    "nfa.dropna(how='any',inplace=True)\n",
    "nfa = nfa.set_index(\"country\").reset_index()"
   ]
  },
  {
   "cell_type": "code",
   "execution_count": 4,
   "id": "optional-retention",
   "metadata": {},
   "outputs": [],
   "source": [
    "# Reformats NFA data.\n",
    "i = 0\n",
    "country_col = []\n",
    "year_col = []\n",
    "c_cons_col = []\n",
    "c_prods_col = []\n",
    "\n",
    "for row in nfa['country']:\n",
    "    if i < len(nfa['country']):\n",
    "        country_col.append(nfa['country'][i])\n",
    "        year_col.append(nfa['year'][i])\n",
    "        c_cons_col.append(nfa['carbon'][i])\n",
    "        i += 1\n",
    "        c_prods_col.append(nfa['carbon'][i])\n",
    "        i += 1\n",
    "    \n",
    "nfa = pd.DataFrame()\n",
    "nfa['country'] = country_col\n",
    "nfa['year'] = year_col\n",
    "nfa['c_consumed'] = c_cons_col\n",
    "nfa['c_produced'] = c_prods_col"
   ]
  },
  {
   "cell_type": "markdown",
   "id": "documentary-complexity",
   "metadata": {},
   "source": [
    "# UN"
   ]
  },
  {
   "cell_type": "code",
   "execution_count": 5,
   "id": "minus-surprise",
   "metadata": {},
   "outputs": [],
   "source": [
    "# Selects only columns with valid, single year names.\n",
    "selected_columns = []\n",
    "for column in un:\n",
    "    if 'Unnamed' not in column:\n",
    "        if '-' not in column:\n",
    "            selected_columns.append(column)\n",
    "\n",
    "# Turns .. into NaN values. Drops rows with only NaN values.\n",
    "un = un.replace(\"..\",\"NaN\") \n",
    "un = (un[selected_columns])\n",
    "un.dropna(thresh = 9, inplace = True)\n",
    "\n",
    "# Drops bottom rows of summary data.\n",
    "un.drop(un.tail(36).index,inplace=True)\n",
    "\n",
    "# Transforms data from horizontal to vertical.\n",
    "un = pd.melt(un, id_vars = 'Country', value_vars = ['1990','2000','2010', '2014', '2015'])\n",
    "\n",
    "# Renames columns.\n",
    "un = un.rename(columns = {'Country':'country','variable':'year','value':'hdi'})"
   ]
  },
  {
   "cell_type": "markdown",
   "id": "accepted-antigua",
   "metadata": {},
   "source": [
    "# Final Dataset"
   ]
  },
  {
   "cell_type": "code",
   "execution_count": 6,
   "id": "scheduled-sharing",
   "metadata": {},
   "outputs": [],
   "source": [
    "un['country'] = un['country'].astype('string')\n",
    "nfa['country'] = nfa['country'].astype('string')\n",
    "un['year'] = un['year'].astype('int64')\n",
    "nfa['year'] = nfa['year'].astype('int64')"
   ]
  },
  {
   "cell_type": "code",
   "execution_count": 7,
   "id": "pressing-enemy",
   "metadata": {},
   "outputs": [],
   "source": [
    "data = nfa.merge(un, on = ['country','year'])"
   ]
  },
  {
   "cell_type": "code",
   "execution_count": 10,
   "id": "supposed-booth",
   "metadata": {},
   "outputs": [],
   "source": [
    "data.sort_values('country').set_index('country').reset_index()\n",
    "barbados = data[data['country'] == 'Barbados']"
   ]
  },
  {
   "cell_type": "code",
   "execution_count": 11,
   "id": "professional-teddy",
   "metadata": {},
   "outputs": [
    {
     "data": {
      "text/html": [
       "<div>\n",
       "<style scoped>\n",
       "    .dataframe tbody tr th:only-of-type {\n",
       "        vertical-align: middle;\n",
       "    }\n",
       "\n",
       "    .dataframe tbody tr th {\n",
       "        vertical-align: top;\n",
       "    }\n",
       "\n",
       "    .dataframe thead th {\n",
       "        text-align: right;\n",
       "    }\n",
       "</style>\n",
       "<table border=\"1\" class=\"dataframe\">\n",
       "  <thead>\n",
       "    <tr style=\"text-align: right;\">\n",
       "      <th></th>\n",
       "      <th>country</th>\n",
       "      <th>year</th>\n",
       "      <th>c_consumed</th>\n",
       "      <th>c_produced</th>\n",
       "      <th>hdi</th>\n",
       "    </tr>\n",
       "  </thead>\n",
       "  <tbody>\n",
       "    <tr>\n",
       "      <th>8</th>\n",
       "      <td>Barbados</td>\n",
       "      <td>1990</td>\n",
       "      <td>2.428270</td>\n",
       "      <td>1.403260</td>\n",
       "      <td>0.732</td>\n",
       "    </tr>\n",
       "    <tr>\n",
       "      <th>95</th>\n",
       "      <td>Barbados</td>\n",
       "      <td>2000</td>\n",
       "      <td>2.974244</td>\n",
       "      <td>1.499070</td>\n",
       "      <td>0.771</td>\n",
       "    </tr>\n",
       "    <tr>\n",
       "      <th>197</th>\n",
       "      <td>Barbados</td>\n",
       "      <td>2010</td>\n",
       "      <td>3.435050</td>\n",
       "      <td>1.889276</td>\n",
       "      <td>0.797</td>\n",
       "    </tr>\n",
       "  </tbody>\n",
       "</table>\n",
       "</div>"
      ],
      "text/plain": [
       "      country  year  c_consumed  c_produced    hdi\n",
       "8    Barbados  1990    2.428270    1.403260  0.732\n",
       "95   Barbados  2000    2.974244    1.499070  0.771\n",
       "197  Barbados  2010    3.435050    1.889276  0.797"
      ]
     },
     "execution_count": 11,
     "metadata": {},
     "output_type": "execute_result"
    }
   ],
   "source": [
    "barbados"
   ]
  },
  {
   "cell_type": "code",
   "execution_count": null,
   "id": "analyzed-cooler",
   "metadata": {},
   "outputs": [],
   "source": []
  }
 ],
 "metadata": {
  "kernelspec": {
   "display_name": "PythonData",
   "language": "python",
   "name": "pythondata"
  },
  "language_info": {
   "codemirror_mode": {
    "name": "ipython",
    "version": 3
   },
   "file_extension": ".py",
   "mimetype": "text/x-python",
   "name": "python",
   "nbconvert_exporter": "python",
   "pygments_lexer": "ipython3",
   "version": "3.6.10"
  }
 },
 "nbformat": 4,
 "nbformat_minor": 5
}
