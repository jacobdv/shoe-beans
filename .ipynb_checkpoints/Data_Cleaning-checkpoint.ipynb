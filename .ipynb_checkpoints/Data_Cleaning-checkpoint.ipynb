{
 "cells": [
  {
   "cell_type": "markdown",
   "id": "generous-throw",
   "metadata": {},
   "source": [
    "# Imports and Dependencies"
   ]
  },
  {
   "cell_type": "code",
   "execution_count": 15,
   "id": "suspected-wesley",
   "metadata": {},
   "outputs": [
    {
     "name": "stderr",
     "output_type": "stream",
     "text": [
      "C:\\Users\\mrjac\\Anaconda3\\envs\\PythonData\\lib\\site-packages\\IPython\\core\\interactiveshell.py:3063: DtypeWarning: Columns (6) have mixed types.Specify dtype option on import or set low_memory=False.\n",
      "  interactivity=interactivity, compiler=compiler, result=result)\n"
     ]
    }
   ],
   "source": [
    "# Imports\n",
    "import pandas as pd\n",
    "import math as m\n",
    "\n",
    "# Reads in csv files. Begins formatting.\n",
    "nfa = pd.read_csv(\"resources/NFA_Data.csv\")\n",
    "un = pd.read_csv(\"resources/UN_Data.csv\", header=4).drop([0,67,121,159,193])"
   ]
  },
  {
   "cell_type": "markdown",
   "id": "emerging-henry",
   "metadata": {},
   "source": [
    "# NFA Data"
   ]
  },
  {
   "cell_type": "code",
   "execution_count": 5,
   "id": "arabic-capital",
   "metadata": {},
   "outputs": [],
   "source": [
    "# Creating NFA dataframe for 1990, 2000, and 2010.\n",
    "nfa = nfa[['country','year','carbon','record','QScore']]\n",
    "nfa_data1990 = nfa[nfa['year'] == 1990]\n",
    "nfa_data2000 = nfa[nfa['year'] == 2000]\n",
    "nfa_data2010 = nfa[nfa['year'] == 2010]\n",
    "nfa = ((nfa_data1990.append(nfa_data2000)).append(nfa_data2010))\n",
    "\n",
    "# Dropping world summary data and resetting index values.\n",
    "nfa = nfa[nfa['country'] != 'World']\n",
    "nfa = nfa.set_index(\"country\").reset_index()"
   ]
  },
  {
   "cell_type": "code",
   "execution_count": 6,
   "id": "sharp-folder",
   "metadata": {},
   "outputs": [],
   "source": [
    "# Narrows dataframe to only include relevant carbon rows (production, consumption).\n",
    "nfa = nfa[(nfa['record'] == 'EFProdPerCap') | (nfa['record'] == 'EFConsPerCap')]\n",
    "\n",
    "# Drops NaN values and resets index values.\n",
    "nfa.dropna(how='any',inplace=True)\n",
    "nfa = nfa.set_index(\"country\").reset_index()"
   ]
  },
  {
   "cell_type": "code",
   "execution_count": 8,
   "id": "optional-retention",
   "metadata": {},
   "outputs": [],
   "source": [
    "# Reformats NFA data and overwrites 'nfa' with new dataframe for merging.\n",
    "i = 0\n",
    "country_col = []\n",
    "year_col = []\n",
    "c_cons_col = []\n",
    "c_prods_col = []\n",
    "q_col = []\n",
    "\n",
    "# For loop to pull dataframe values.\n",
    "for row in nfa['country']:\n",
    "    if i < len(nfa['country']):\n",
    "        country_col.append(nfa['country'][i])\n",
    "        year_col.append(nfa['year'][i])\n",
    "        c_cons_col.append(nfa['carbon'][i])\n",
    "        q_col.append(nfa['QScore'][i])\n",
    "        i += 1\n",
    "        c_prods_col.append(nfa['carbon'][i])\n",
    "        i += 1\n",
    "\n",
    "# Creates dataframe for merging.\n",
    "nfa = pd.DataFrame()\n",
    "nfa['country'] = country_col\n",
    "nfa['year'] = year_col\n",
    "nfa['c_consumed'] = c_cons_col\n",
    "nfa['c_produced'] = c_prods_col\n",
    "nfa['QScore'] = q_col"
   ]
  },
  {
   "cell_type": "markdown",
   "id": "documentary-complexity",
   "metadata": {},
   "source": [
    "# UN Data"
   ]
  },
  {
   "cell_type": "code",
   "execution_count": 9,
   "id": "minus-surprise",
   "metadata": {},
   "outputs": [],
   "source": [
    "# Selects only columns with valid, single year names from UN dataset.\n",
    "selected_columns = []\n",
    "for column in un:\n",
    "    if 'Unnamed' not in column:\n",
    "        if '-' not in column:\n",
    "            selected_columns.append(column)\n",
    "\n",
    "# Turns '..' into NaN values. Drops rows with only NaN values.\n",
    "un = un.replace(\"..\",\"NaN\") \n",
    "un = (un[selected_columns])\n",
    "un.dropna(thresh = 9, inplace = True)\n",
    "\n",
    "# Drops summary data rows.\n",
    "un.drop(un.tail(36).index,inplace=True)\n",
    "\n",
    "# Transforms data from horizontal to vertical.\n",
    "un = pd.melt(un, id_vars = 'Country', value_vars = ['1990','2000','2010', '2014', '2015'])\n",
    "\n",
    "# Renames columns.\n",
    "un = un.rename(columns = {'Country':'country','variable':'year','value':'hdi'})"
   ]
  },
  {
   "cell_type": "markdown",
   "id": "accepted-antigua",
   "metadata": {},
   "source": [
    "# Final Dataset"
   ]
  },
  {
   "cell_type": "code",
   "execution_count": 10,
   "id": "scheduled-sharing",
   "metadata": {},
   "outputs": [],
   "source": [
    "# Retypes country and year columns to allow for clean merging.\n",
    "un['country'] = un['country'].astype('string')\n",
    "nfa['country'] = nfa['country'].astype('string')\n",
    "un['year'] = un['year'].astype('int64')\n",
    "nfa['year'] = nfa['year'].astype('int64')"
   ]
  },
  {
   "cell_type": "code",
   "execution_count": 11,
   "id": "pressing-enemy",
   "metadata": {},
   "outputs": [],
   "source": [
    "# Merges on country and year values for NFA and UN datasets.\n",
    "data = nfa.merge(un, on = ['country','year'])"
   ]
  },
  {
   "cell_type": "code",
   "execution_count": 14,
   "id": "exterior-travel",
   "metadata": {},
   "outputs": [],
   "source": [
    "# Exports final dataframe to csv for pgAdmin.\n",
    "data.to_csv('resources/Final_Dataset.csv')"
   ]
  }
 ],
 "metadata": {
  "kernelspec": {
   "display_name": "PythonData",
   "language": "python",
   "name": "pythondata"
  },
  "language_info": {
   "codemirror_mode": {
    "name": "ipython",
    "version": 3
   },
   "file_extension": ".py",
   "mimetype": "text/x-python",
   "name": "python",
   "nbconvert_exporter": "python",
   "pygments_lexer": "ipython3",
   "version": "3.6.10"
  }
 },
 "nbformat": 4,
 "nbformat_minor": 5
}
